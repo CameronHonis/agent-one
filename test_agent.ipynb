{
 "cells": [
  {
   "cell_type": "code",
   "execution_count": 4,
   "metadata": {},
   "outputs": [
    {
     "data": {
      "text/plain": [
       "True"
      ]
     },
     "execution_count": 4,
     "metadata": {},
     "output_type": "execute_result"
    }
   ],
   "source": [
    "from dotenv import load_dotenv\n",
    "import os\n",
    "\n",
    "load_dotenv()"
   ]
  },
  {
   "cell_type": "code",
   "execution_count": 5,
   "metadata": {},
   "outputs": [],
   "source": [
    "# Import relevant functionality\n",
    "from langchain_anthropic import ChatAnthropic\n",
    "from langchain_community.tools.tavily_search import TavilySearchResults\n",
    "from langchain_core.messages import HumanMessage\n",
    "from langgraph.checkpoint.memory import MemorySaver\n",
    "from langgraph.prebuilt import create_react_agent\n",
    "\n",
    "# Create the agent\n",
    "memory = MemorySaver()\n",
    "model = ChatAnthropic(model_name=\"claude-3-7-sonnet-latest\")\n",
    "search = TavilySearchResults(max_results=2)\n",
    "tools = [search]\n",
    "agent_executor = create_react_agent(model, tools, checkpointer=memory)\n",
    "\n",
    "config = dict(\n",
    "    configurable=dict(thread_id=\"abc123\")\n",
    ")"
   ]
  },
  {
   "cell_type": "code",
   "execution_count": 7,
   "metadata": {},
   "outputs": [
    {
     "data": {
      "text/plain": [
       "{'messages': [HumanMessage(content='hi!', additional_kwargs={}, response_metadata={}, id='91ca4f21-701f-441a-bce3-7a21cb8f7a8a'),\n",
       "  AIMessage(content=\"Hello! I'm here to help you with information and answer questions. Is there something specific you'd like to know about or discuss today? I can search for current information, provide explanations on various topics, or assist with other questions you might have.\", additional_kwargs={}, response_metadata={'id': 'msg_01QUZJcVEnwYHss2MiMFWheE', 'model': 'claude-3-7-sonnet-20250219', 'stop_reason': 'end_turn', 'stop_sequence': None, 'usage': {'cache_creation_input_tokens': 0, 'cache_read_input_tokens': 0, 'input_tokens': 418, 'output_tokens': 54}}, id='run-3fe8d256-eaf8-460e-b4c4-67ac6b19e547-0', usage_metadata={'input_tokens': 418, 'output_tokens': 54, 'total_tokens': 472, 'input_token_details': {'cache_creation': 0, 'cache_read': 0}}),\n",
       "  HumanMessage(content='can you repeat what you just said?', additional_kwargs={}, response_metadata={}, id='d8f178f9-f142-4b9b-a831-7e84890711d7'),\n",
       "  AIMessage(content=\"Hello! I'm here to help you with information and answer questions. Is there something specific you'd like to know about or discuss today? I can search for current information, provide explanations on various topics, or assist with other questions you might have.\", additional_kwargs={}, response_metadata={'id': 'msg_01UefQWskFr5vCsFNtdhyCPb', 'model': 'claude-3-7-sonnet-20250219', 'stop_reason': 'end_turn', 'stop_sequence': None, 'usage': {'cache_creation_input_tokens': 0, 'cache_read_input_tokens': 0, 'input_tokens': 483, 'output_tokens': 54}}, id='run-dcb2031c-a741-4614-b92b-7b3ac11b37f6-0', usage_metadata={'input_tokens': 483, 'output_tokens': 54, 'total_tokens': 537, 'input_token_details': {'cache_read': 0, 'cache_creation': 0}})]}"
      ]
     },
     "execution_count": 7,
     "metadata": {},
     "output_type": "execute_result"
    }
   ],
   "source": [
    "response = agent_executor.invoke(\n",
    "    dict( messages=[HumanMessage(content=\"can you repeat what you just said?\")]),\n",
    "    config)\n",
    "response"
   ]
  },
  {
   "cell_type": "code",
   "execution_count": 8,
   "metadata": {},
   "outputs": [],
   "source": [
    "agent_executor_no_mem = create_react_agent(model, tools)"
   ]
  },
  {
   "cell_type": "code",
   "execution_count": 9,
   "metadata": {},
   "outputs": [
    {
     "data": {
      "text/plain": [
       "{'messages': [HumanMessage(content='can you repeat what you just said?', additional_kwargs={}, response_metadata={}, id='fad17ece-fc65-4bbb-b659-6d8c1439b700'),\n",
       "  AIMessage(content=\"I haven't said anything previously in our conversation yet. This appears to be our first interaction. \\n\\nIs there something specific you're looking for information about? I'd be happy to help you search for information or answer questions on various topics.\", additional_kwargs={}, response_metadata={'id': 'msg_01XeTQz3N9zb5CoPsWgRd7dV', 'model': 'claude-3-7-sonnet-20250219', 'stop_reason': 'end_turn', 'stop_sequence': None, 'usage': {'cache_creation_input_tokens': 0, 'cache_read_input_tokens': 0, 'input_tokens': 424, 'output_tokens': 52}}, id='run-2897b1ef-a416-42d3-a6db-83d896bfe6b6-0', usage_metadata={'input_tokens': 424, 'output_tokens': 52, 'total_tokens': 476, 'input_token_details': {'cache_read': 0, 'cache_creation': 0}})]}"
      ]
     },
     "execution_count": 9,
     "metadata": {},
     "output_type": "execute_result"
    }
   ],
   "source": [
    "resp = agent_executor_no_mem.invoke(dict(messages=[HumanMessage(content=\"hi!\")]))\n",
    "resp = agent_executor_no_mem.invoke(dict(messages=[HumanMessage(content=\"can you repeat what you just said?\")]))\n",
    "resp"
   ]
  },
  {
   "cell_type": "code",
   "execution_count": null,
   "metadata": {},
   "outputs": [],
   "source": []
  }
 ],
 "metadata": {
  "kernelspec": {
   "display_name": ".venv",
   "language": "python",
   "name": "python3"
  },
  "language_info": {
   "codemirror_mode": {
    "name": "ipython",
    "version": 3
   },
   "file_extension": ".py",
   "mimetype": "text/x-python",
   "name": "python",
   "nbconvert_exporter": "python",
   "pygments_lexer": "ipython3",
   "version": "3.12.3"
  }
 },
 "nbformat": 4,
 "nbformat_minor": 2
}
