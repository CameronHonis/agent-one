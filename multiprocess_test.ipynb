{
 "cells": [
  {
   "cell_type": "code",
   "execution_count": 2,
   "metadata": {},
   "outputs": [
    {
     "name": "stdout",
     "output_type": "stream",
     "text": [
      "a\n",
      "s\n",
      "d\n",
      "f\n",
      "!\n"
     ]
    }
   ],
   "source": [
    "from multiprocessing import Process, Queue\n",
    "from time import sleep\n",
    "\n",
    "\n",
    "q = Queue()\n",
    "def p1():\n",
    "    while True:\n",
    "        print(q.get())\n",
    "        sleep(1)\n",
    "\n",
    "q.put(\"a\")\n",
    "q.put(\"s\")\n",
    "q.put(\"d\")\n",
    "q.put(\"f\")\n",
    "\n",
    "Process(target=p1).start()\n",
    "sleep(10)\n",
    "q.put(\"!\")"
   ]
  },
  {
   "cell_type": "code",
   "execution_count": null,
   "metadata": {},
   "outputs": [],
   "source": []
  }
 ],
 "metadata": {
  "kernelspec": {
   "display_name": ".venv",
   "language": "python",
   "name": "python3"
  },
  "language_info": {
   "codemirror_mode": {
    "name": "ipython",
    "version": 3
   },
   "file_extension": ".py",
   "mimetype": "text/x-python",
   "name": "python",
   "nbconvert_exporter": "python",
   "pygments_lexer": "ipython3",
   "version": "3.12.3"
  }
 },
 "nbformat": 4,
 "nbformat_minor": 2
}
