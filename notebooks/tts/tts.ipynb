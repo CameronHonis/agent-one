{
 "cells": [
  {
   "cell_type": "code",
   "execution_count": 1,
   "metadata": {},
   "outputs": [],
   "source": [
    "import pyttsx3\n",
    "\n",
    "def text_to_speech_pyttsx3(text):\n",
    "    # Initialize the TTS engine\n",
    "    engine = pyttsx3.init()\n",
    "    \n",
    "    # Optional: Configure properties\n",
    "    engine.setProperty('rate', 150)    # Speed of speech\n",
    "    engine.setProperty('volume', 0.9)  # Volume (0.0 to 1.0)\n",
    "    \n",
    "    # Optional: List and select available voices\n",
    "    voices = engine.getProperty('voices')\n",
    "    # Set the second voice in the list (usually a female voice if available)\n",
    "    # Comment out if you prefer the default voice\n",
    "    if len(voices) > 1:\n",
    "        engine.setProperty('voice', voices[1].id)\n",
    "    \n",
    "    # Convert text to speech\n",
    "    engine.say(text)\n",
    "    engine.runAndWait()"
   ]
  },
  {
   "cell_type": "code",
   "execution_count": 2,
   "metadata": {},
   "outputs": [
    {
     "name": "stderr",
     "output_type": "stream",
     "text": [
      "Exception ignored on calling ctypes callback function: <bound method EspeakDriver._onSynth of <pyttsx3.drivers.espeak.EspeakDriver object at 0x70bbac448190>>\n",
      "Traceback (most recent call last):\n",
      "  File \"/home/camer/pri/agent/notebooks/tts/.venv/lib/python3.11/site-packages/pyttsx3/drivers/espeak.py\", line 193, in _onSynth\n",
      "    self._proxy.notify('finished-utterance', completed=True)\n",
      "    ^^^^^^^^^^^^^^^^^^\n",
      "ReferenceError: weakly-referenced object no longer exists\n"
     ]
    }
   ],
   "source": [
    "text_to_speech_pyttsx3(\"I like big butts and I cannot lie\")"
   ]
  },
  {
   "cell_type": "code",
   "execution_count": 25,
   "metadata": {},
   "outputs": [
    {
     "name": "stderr",
     "output_type": "stream",
     "text": [
      "/home/camer/pri/agent/notebooks/tts/.venv/lib/python3.11/site-packages/TTS/api.py:70: UserWarning: `gpu` will be deprecated. Please use `tts.to(device)` instead.\n",
      "  warnings.warn(\"`gpu` will be deprecated. Please use `tts.to(device)` instead.\")\n"
     ]
    },
    {
     "name": "stdout",
     "output_type": "stream",
     "text": [
      " > tts_models/en/vctk/vits is already downloaded.\n",
      " > Using model: vits\n",
      " > Setting up Audio Processor...\n",
      " | > sample_rate:22050\n",
      " | > resample:False\n",
      " | > num_mels:80\n",
      " | > log_func:np.log10\n",
      " | > min_level_db:0\n",
      " | > frame_shift_ms:None\n",
      " | > frame_length_ms:None\n",
      " | > ref_level_db:None\n",
      " | > fft_size:1024\n",
      " | > power:None\n",
      " | > preemphasis:0.0\n",
      " | > griffin_lim_iters:None\n",
      " | > signal_norm:None\n",
      " | > symmetric_norm:None\n",
      " | > mel_fmin:0\n",
      " | > mel_fmax:None\n",
      " | > pitch_fmin:None\n",
      " | > pitch_fmax:None\n",
      " | > spec_gain:20.0\n",
      " | > stft_pad_mode:reflect\n",
      " | > max_norm:1.0\n",
      " | > clip_norm:True\n",
      " | > do_trim_silence:False\n",
      " | > trim_db:60\n",
      " | > do_sound_norm:False\n",
      " | > do_amp_to_db_linear:True\n",
      " | > do_amp_to_db_mel:True\n",
      " | > do_rms_norm:False\n",
      " | > db_level:None\n",
      " | > stats_path:None\n",
      " | > base:10\n",
      " | > hop_length:256\n",
      " | > win_length:1024\n",
      " > initialization of speaker-embedding layers.\n",
      " > Text splitted to sentences.\n",
      "['Once, in a small coastal town, there lived an elderly lighthouse keeper named Ellis.', 'For forty years, he had tended the light that guided ships safely to harbor.', 'One stormy evening, as rain lashed against the lighthouse windows, Ellis noticed something unusual washing up on the rocky shore.', 'When the weather cleared the next morning, he ventured down to find a sealed glass bottle containing a handwritten letter.', 'The letter was from a woman named Mei who lived across the ocean.', 'She had written it ten years earlier during a difficult time in her life and cast it into the sea as a way of releasing her troubles.']\n",
      " > Processing time: 0.41355180740356445\n",
      " > Real-time factor: 0.01415543402160939\n",
      "p234\n",
      " > Text splitted to sentences.\n",
      "['Once, in a small coastal town, there lived an elderly lighthouse keeper named Ellis.', 'For forty years, he had tended the light that guided ships safely to harbor.', 'One stormy evening, as rain lashed against the lighthouse windows, Ellis noticed something unusual washing up on the rocky shore.', 'When the weather cleared the next morning, he ventured down to find a sealed glass bottle containing a handwritten letter.', 'The letter was from a woman named Mei who lived across the ocean.', 'She had written it ten years earlier during a difficult time in her life and cast it into the sea as a way of releasing her troubles.']\n",
      " > Processing time: 0.4166882038116455\n",
      " > Real-time factor: 0.015690705253782283\n",
      "p250\n",
      " > Text splitted to sentences.\n",
      "['Once, in a small coastal town, there lived an elderly lighthouse keeper named Ellis.', 'For forty years, he had tended the light that guided ships safely to harbor.', 'One stormy evening, as rain lashed against the lighthouse windows, Ellis noticed something unusual washing up on the rocky shore.', 'When the weather cleared the next morning, he ventured down to find a sealed glass bottle containing a handwritten letter.', 'The letter was from a woman named Mei who lived across the ocean.', 'She had written it ten years earlier during a difficult time in her life and cast it into the sea as a way of releasing her troubles.']\n",
      " > Processing time: 0.4424705505371094\n",
      " > Real-time factor: 0.015700595485322464\n",
      "p267\n"
     ]
    },
    {
     "ename": "KeyboardInterrupt",
     "evalue": "",
     "output_type": "error",
     "traceback": [
      "\u001b[31m---------------------------------------------------------------------------\u001b[39m",
      "\u001b[31mKeyboardInterrupt\u001b[39m                         Traceback (most recent call last)",
      "\u001b[36mCell\u001b[39m\u001b[36m \u001b[39m\u001b[32mIn[25]\u001b[39m\u001b[32m, line 18\u001b[39m\n\u001b[32m     15\u001b[39m \u001b[38;5;66;03m# wav_io = io.BytesIO(wav)\u001b[39;00m\n\u001b[32m     16\u001b[39m \u001b[38;5;66;03m# audio_bytes, sample_rate = sf.read(wav_io)\u001b[39;00m\n\u001b[32m     17\u001b[39m sd.play(np.array(wav), \u001b[32m22_050\u001b[39m)\n\u001b[32m---> \u001b[39m\u001b[32m18\u001b[39m \u001b[43msd\u001b[49m\u001b[43m.\u001b[49m\u001b[43mwait\u001b[49m\u001b[43m(\u001b[49m\u001b[43m)\u001b[49m\n",
      "\u001b[36mFile \u001b[39m\u001b[32m~/pri/agent/notebooks/tts/.venv/lib/python3.11/site-packages/sounddevice.py:398\u001b[39m, in \u001b[36mwait\u001b[39m\u001b[34m(ignore_errors)\u001b[39m\n\u001b[32m    382\u001b[39m \u001b[38;5;250m\u001b[39m\u001b[33;03m\"\"\"Wait for `play()`/`rec()`/`playrec()` to be finished.\u001b[39;00m\n\u001b[32m    383\u001b[39m \n\u001b[32m    384\u001b[39m \u001b[33;03mPlayback/recording can be stopped with a `KeyboardInterrupt`.\u001b[39;00m\n\u001b[32m   (...)\u001b[39m\u001b[32m    395\u001b[39m \n\u001b[32m    396\u001b[39m \u001b[33;03m\"\"\"\u001b[39;00m\n\u001b[32m    397\u001b[39m \u001b[38;5;28;01mif\u001b[39;00m _last_callback:\n\u001b[32m--> \u001b[39m\u001b[32m398\u001b[39m     \u001b[38;5;28;01mreturn\u001b[39;00m \u001b[43m_last_callback\u001b[49m\u001b[43m.\u001b[49m\u001b[43mwait\u001b[49m\u001b[43m(\u001b[49m\u001b[43mignore_errors\u001b[49m\u001b[43m)\u001b[49m\n",
      "\u001b[36mFile \u001b[39m\u001b[32m~/pri/agent/notebooks/tts/.venv/lib/python3.11/site-packages/sounddevice.py:2645\u001b[39m, in \u001b[36m_CallbackContext.wait\u001b[39m\u001b[34m(self, ignore_errors)\u001b[39m\n\u001b[32m   2639\u001b[39m \u001b[38;5;250m\u001b[39m\u001b[33;03m\"\"\"Wait for finished_callback.\u001b[39;00m\n\u001b[32m   2640\u001b[39m \n\u001b[32m   2641\u001b[39m \u001b[33;03mCan be interrupted with a KeyboardInterrupt.\u001b[39;00m\n\u001b[32m   2642\u001b[39m \n\u001b[32m   2643\u001b[39m \u001b[33;03m\"\"\"\u001b[39;00m\n\u001b[32m   2644\u001b[39m \u001b[38;5;28;01mtry\u001b[39;00m:\n\u001b[32m-> \u001b[39m\u001b[32m2645\u001b[39m     \u001b[38;5;28;43mself\u001b[39;49m\u001b[43m.\u001b[49m\u001b[43mevent\u001b[49m\u001b[43m.\u001b[49m\u001b[43mwait\u001b[49m\u001b[43m(\u001b[49m\u001b[43m)\u001b[49m\n\u001b[32m   2646\u001b[39m \u001b[38;5;28;01mfinally\u001b[39;00m:\n\u001b[32m   2647\u001b[39m     \u001b[38;5;28mself\u001b[39m.stream.close(ignore_errors)\n",
      "\u001b[36mFile \u001b[39m\u001b[32m~/.pyenv/versions/3.11.9/lib/python3.11/threading.py:629\u001b[39m, in \u001b[36mEvent.wait\u001b[39m\u001b[34m(self, timeout)\u001b[39m\n\u001b[32m    627\u001b[39m signaled = \u001b[38;5;28mself\u001b[39m._flag\n\u001b[32m    628\u001b[39m \u001b[38;5;28;01mif\u001b[39;00m \u001b[38;5;129;01mnot\u001b[39;00m signaled:\n\u001b[32m--> \u001b[39m\u001b[32m629\u001b[39m     signaled = \u001b[38;5;28;43mself\u001b[39;49m\u001b[43m.\u001b[49m\u001b[43m_cond\u001b[49m\u001b[43m.\u001b[49m\u001b[43mwait\u001b[49m\u001b[43m(\u001b[49m\u001b[43mtimeout\u001b[49m\u001b[43m)\u001b[49m\n\u001b[32m    630\u001b[39m \u001b[38;5;28;01mreturn\u001b[39;00m signaled\n",
      "\u001b[36mFile \u001b[39m\u001b[32m~/.pyenv/versions/3.11.9/lib/python3.11/threading.py:327\u001b[39m, in \u001b[36mCondition.wait\u001b[39m\u001b[34m(self, timeout)\u001b[39m\n\u001b[32m    325\u001b[39m \u001b[38;5;28;01mtry\u001b[39;00m:    \u001b[38;5;66;03m# restore state no matter what (e.g., KeyboardInterrupt)\u001b[39;00m\n\u001b[32m    326\u001b[39m     \u001b[38;5;28;01mif\u001b[39;00m timeout \u001b[38;5;129;01mis\u001b[39;00m \u001b[38;5;28;01mNone\u001b[39;00m:\n\u001b[32m--> \u001b[39m\u001b[32m327\u001b[39m         \u001b[43mwaiter\u001b[49m\u001b[43m.\u001b[49m\u001b[43macquire\u001b[49m\u001b[43m(\u001b[49m\u001b[43m)\u001b[49m\n\u001b[32m    328\u001b[39m         gotit = \u001b[38;5;28;01mTrue\u001b[39;00m\n\u001b[32m    329\u001b[39m     \u001b[38;5;28;01melse\u001b[39;00m:\n",
      "\u001b[31mKeyboardInterrupt\u001b[39m: "
     ]
    }
   ],
   "source": [
    "import io\n",
    "import soundfile as sf\n",
    "import sounddevice as sd\n",
    "import numpy as np\n",
    "from TTS.api import TTS\n",
    "tts = TTS(\"tts_models/en/vctk/vits\", gpu=True)  # Set gpu=False for CPU only\n",
    "# print(tts.speakers)\n",
    "interest = [\"p234\", \"p250\", \"p267\"]\n",
    "for speaker_name in tts.speakers:\n",
    "    if not speaker_name in interest:\n",
    "        continue\n",
    "    text = f\"Once, in a small coastal town, there lived an elderly lighthouse keeper named Ellis. For forty years, he had tended the light that guided ships safely to harbor.  One stormy evening, as rain lashed against the lighthouse windows, Ellis noticed something unusual washing up on the rocky shore. When the weather cleared the next morning, he ventured down to find a sealed glass bottle containing a handwritten letter.  The letter was from a woman named Mei who lived across the ocean. She had written it ten years earlier during a difficult time in her life and cast it into the sea as a way of releasing her troubles.  \"\n",
    "    wav = tts.tts(text, speaker_name)\n",
    "    print(speaker_name)\n",
    "    # wav_io = io.BytesIO(wav)\n",
    "    # audio_bytes, sample_rate = sf.read(wav_io)\n",
    "    sd.play(np.array(wav), 22_050)\n",
    "    sd.wait()"
   ]
  },
  {
   "cell_type": "code",
   "execution_count": 12,
   "metadata": {},
   "outputs": [],
   "source": [
    "# 226, 228, 234, 244, 250, 258, 260, 267, 274, 284, 310, 318, 364\n",
    "# 234, 250, 267"
   ]
  },
  {
   "cell_type": "code",
   "execution_count": null,
   "metadata": {},
   "outputs": [],
   "source": []
  }
 ],
 "metadata": {
  "kernelspec": {
   "display_name": ".venv",
   "language": "python",
   "name": "python3"
  },
  "language_info": {
   "codemirror_mode": {
    "name": "ipython",
    "version": 3
   },
   "file_extension": ".py",
   "mimetype": "text/x-python",
   "name": "python",
   "nbconvert_exporter": "python",
   "pygments_lexer": "ipython3",
   "version": "3.11.9"
  }
 },
 "nbformat": 4,
 "nbformat_minor": 2
}
