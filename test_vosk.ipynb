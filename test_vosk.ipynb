{
 "cells": [
  {
   "cell_type": "code",
   "execution_count": 3,
   "metadata": {},
   "outputs": [
    {
     "name": "stderr",
     "output_type": "stream",
     "text": [
      "LOG (VoskAPI:ReadDataFiles():model.cc:213) Decoding params beam=13 max-active=7000 lattice-beam=6\n",
      "LOG (VoskAPI:ReadDataFiles():model.cc:216) Silence phones 1:2:3:4:5:11:12:13:14:15\n",
      "LOG (VoskAPI:RemoveOrphanNodes():nnet-nnet.cc:948) Removed 0 orphan nodes.\n",
      "LOG (VoskAPI:RemoveOrphanComponents():nnet-nnet.cc:847) Removing 0 orphan components.\n",
      "LOG (VoskAPI:ReadDataFiles():model.cc:248) Loading i-vector extractor from /home/camer/Downloads/vosk-model-en-us-0.22/ivector/final.ie\n",
      "LOG (VoskAPI:ComputeDerivedVars():ivector-extractor.cc:183) Computing derived variables for iVector extractor\n",
      "LOG (VoskAPI:ComputeDerivedVars():ivector-extractor.cc:204) Done.\n",
      "LOG (VoskAPI:ReadDataFiles():model.cc:279) Loading HCLG from /home/camer/Downloads/vosk-model-en-us-0.22/graph/HCLG.fst\n",
      "LOG (VoskAPI:ReadDataFiles():model.cc:297) Loading words from /home/camer/Downloads/vosk-model-en-us-0.22/graph/words.txt\n",
      "LOG (VoskAPI:ReadDataFiles():model.cc:308) Loading winfo /home/camer/Downloads/vosk-model-en-us-0.22/graph/phones/word_boundary.int\n",
      "LOG (VoskAPI:ReadDataFiles():model.cc:315) Loading subtract G.fst model from /home/camer/Downloads/vosk-model-en-us-0.22/rescore/G.fst\n",
      "LOG (VoskAPI:ReadDataFiles():model.cc:317) Loading CARPA model from /home/camer/Downloads/vosk-model-en-us-0.22/rescore/G.carpa\n",
      "LOG (VoskAPI:ReadDataFiles():model.cc:323) Loading RNNLM model from /home/camer/Downloads/vosk-model-en-us-0.22/rnnlm/final.raw\n"
     ]
    },
    {
     "name": "stdout",
     "output_type": "stream",
     "text": [
      "Listening... Press Ctrl+C to stop\n",
      "Recognized: the fitness gram pacer test is a cardiovascular test that gradually picks up pace as the test progressesses\n",
      "Recognized: \n",
      "Recognized: \n",
      "Recognized: \n",
      "Recognized: \n",
      "Recognized: \n",
      "Recognized: when the mood is just right on windy days i would rather sit inside and play minecraft compared to my other option which is taking the dogs for a walk\n",
      "Recognized: \n",
      "Recognized: \n",
      "Recognized: \n",
      "Recognized: i like big butts and i cannot live\n",
      "Recognized: \n",
      "Recognized: \n",
      "Recognized: \n",
      "Recognized: \n",
      "Partial: \n",
      "Stopped listening.\n"
     ]
    }
   ],
   "source": [
    "import json\n",
    "import queue\n",
    "import sounddevice as sd\n",
    "from vosk import Model, KaldiRecognizer\n",
    "\n",
    "# Load Vosk model - you'll need to download this beforehand\n",
    "# Models available at: https://alphacephei.com/vosk/models\n",
    "model = Model(\"/home/camer/Downloads/vosk-model-en-us-0.22\")\n",
    "recognizer = KaldiRecognizer(model, 16000)\n",
    "\n",
    "# Set up audio stream parameters\n",
    "q = queue.Queue()\n",
    "samplerate = 16000  # Vosk works best with 16kHz audio\n",
    "device_info = sd.query_devices(None, 'input')\n",
    "channels = 1  # Mono audio\n",
    "\n",
    "# Callback function for audio input\n",
    "def audio_callback(indata, frames, time, status):\n",
    "    if status:\n",
    "        print(f\"Error: {status}\")\n",
    "    q.put(bytes(indata))\n",
    "\n",
    "# Start audio stream\n",
    "with sd.RawInputStream(samplerate=samplerate, blocksize=8000, \n",
    "                       device=None, dtype='int16',\n",
    "                       channels=channels, callback=audio_callback):\n",
    "    print(\"Listening... Press Ctrl+C to stop\")\n",
    "    \n",
    "    try:\n",
    "        while True:\n",
    "            data = q.get()\n",
    "            if recognizer.AcceptWaveform(data):\n",
    "                result = json.loads(recognizer.Result())\n",
    "                print(f\"Recognized: {result['text']}\")\n",
    "            else:\n",
    "                partial = json.loads(recognizer.PartialResult())\n",
    "                print(f\"Partial: {partial['partial']}\", end=\"\\r\")\n",
    "    except KeyboardInterrupt:\n",
    "        print(\"\\nStopped listening.\")"
   ]
  },
  {
   "cell_type": "code",
   "execution_count": null,
   "metadata": {},
   "outputs": [],
   "source": []
  }
 ],
 "metadata": {
  "kernelspec": {
   "display_name": ".venv",
   "language": "python",
   "name": "python3"
  },
  "language_info": {
   "codemirror_mode": {
    "name": "ipython",
    "version": 3
   },
   "file_extension": ".py",
   "mimetype": "text/x-python",
   "name": "python",
   "nbconvert_exporter": "python",
   "pygments_lexer": "ipython3",
   "version": "3.12.3"
  }
 },
 "nbformat": 4,
 "nbformat_minor": 2
}
